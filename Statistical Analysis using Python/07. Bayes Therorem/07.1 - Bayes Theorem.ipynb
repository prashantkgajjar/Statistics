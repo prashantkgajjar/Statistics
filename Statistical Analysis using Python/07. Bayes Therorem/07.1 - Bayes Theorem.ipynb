{
 "cells": [
  {
   "cell_type": "markdown",
   "metadata": {},
   "source": [
    "# 07.1: Bayes Theroem\n",
    "\n",
    "---"
   ]
  },
  {
   "cell_type": "code",
   "execution_count": 1,
   "metadata": {},
   "outputs": [],
   "source": [
    "def get_outcomes(sample_space, f_name='', e_name=''):\n",
    "    outcomes = 0\n",
    "    for e_k, e_v in sample_space.items():\n",
    "        if f_name=='' or f_name==e_k:\n",
    "            for se_k, se_v in e_v.items():\n",
    "                if e_name!='' and se_k == e_name:\n",
    "                    outcomes+=se_v\n",
    "                elif e_name=='':\n",
    "                    outcomes+=se_v\n",
    "    return outcomes"
   ]
  },
  {
   "cell_type": "code",
   "execution_count": 2,
   "metadata": {},
   "outputs": [],
   "source": [
    "def p(sample_space, f_name):\n",
    "    return get_outcomes(sample_space, f_name) / get_outcomes(sample_space, '', '')\n",
    "\n",
    "def p_inters(sample_space, f_name, e_name):\n",
    "    return get_outcomes(sample_space, f_name, e_name) / get_outcomes(sample_space, '', '')\n",
    "\n",
    "def p_conditional(sample_space, f_name, e_name):\n",
    "    return p_inters(sample_space, f_name, e_name) / p(sample_space, f_name)\n",
    "\n",
    "def bayes(sample_space, f, given_e):\n",
    "    sum = 0;\n",
    "    for e_k, e_v in sample_space.items():\n",
    "        sum+=p(sample_space, e_k) * p_conditional(sample_space, e_k, given_e)\n",
    "    return p(sample_space, f) * p_conditional(sample_space, f, given_e) / sum"
   ]
  },
  {
   "cell_type": "code",
   "execution_count": 3,
   "metadata": {},
   "outputs": [],
   "source": [
    "sample_space = {'UK':{'Boy':10, 'Girl':20},\n",
    "                'FR':{'Boy':10, 'Girl':10},\n",
    "                'CA':{'Boy':10, 'Girl':30}}"
   ]
  },
  {
   "cell_type": "code",
   "execution_count": 4,
   "metadata": {},
   "outputs": [
    {
     "name": "stdout",
     "output_type": "stream",
     "text": [
      "Probability of being from FR: 0.2222222222222222\n",
      "Probability to be French Boy: 0.1111111111111111\n",
      "Probability of being a Boy given a person is from FR: 0.5\n",
      "Probability to be from France given person is Boy: 0.3333333333333333\n"
     ]
    }
   ],
   "source": [
    "print('Probability of being from FR:', p(sample_space, 'FR'))\n",
    "print('Probability to be French Boy:', p_inters(sample_space, 'FR', 'Boy'))\n",
    "print('Probability of being a Boy given a person is from FR:', p_conditional(sample_space, 'FR', 'Boy'))\n",
    "print('Probability to be from France given person is Boy:', bayes(sample_space, 'FR', 'Boy'))"
   ]
  },
  {
   "cell_type": "code",
   "execution_count": 5,
   "metadata": {},
   "outputs": [],
   "source": [
    "sample_space = {'Grow' :{'Up':160, 'Down':40},\n",
    "                'Slows':{'Up':30, 'Down':70}}"
   ]
  },
  {
   "cell_type": "code",
   "execution_count": 6,
   "metadata": {},
   "outputs": [
    {
     "name": "stdout",
     "output_type": "stream",
     "text": [
      "Probability economy is growing when stock is Up: 0.8421052631578948\n"
     ]
    }
   ],
   "source": [
    "print('Probability economy is growing when stock is Up:', bayes(sample_space, 'Grow', 'Up'))"
   ]
  },
  {
   "cell_type": "code",
   "execution_count": null,
   "metadata": {},
   "outputs": [],
   "source": []
  }
 ],
 "metadata": {
  "kernelspec": {
   "display_name": "Python 3",
   "language": "python",
   "name": "python3"
  },
  "language_info": {
   "codemirror_mode": {
    "name": "ipython",
    "version": 3
   },
   "file_extension": ".py",
   "mimetype": "text/x-python",
   "name": "python",
   "nbconvert_exporter": "python",
   "pygments_lexer": "ipython3",
   "version": "3.8.3"
  }
 },
 "nbformat": 4,
 "nbformat_minor": 4
}
