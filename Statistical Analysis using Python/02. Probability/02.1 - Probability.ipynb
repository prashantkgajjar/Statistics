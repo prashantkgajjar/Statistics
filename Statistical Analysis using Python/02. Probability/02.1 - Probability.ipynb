{
 "cells": [
  {
   "cell_type": "markdown",
   "metadata": {},
   "source": [
    "# 02.1: Probability\n",
    "\n",
    "---"
   ]
  },
  {
   "cell_type": "code",
   "execution_count": 1,
   "metadata": {
    "colab": {},
    "colab_type": "code",
    "id": "tFQ4bdA53nVF"
   },
   "outputs": [],
   "source": [
    "%matplotlib inline"
   ]
  },
  {
   "cell_type": "markdown",
   "metadata": {
    "colab_type": "text",
    "id": "jsmjmvb8Dlu9"
   },
   "source": [
    "## Example 1:\n",
    "\n",
    "---\n",
    "\n"
   ]
  },
  {
   "cell_type": "code",
   "execution_count": 2,
   "metadata": {
    "colab": {
     "base_uri": "https://localhost:8080/",
     "height": 34
    },
    "colab_type": "code",
    "id": "z7E8ErzD3nVQ",
    "outputId": "87112d28-3763-4197-a925-6664a9d86dc0"
   },
   "outputs": [
    {
     "name": "stdout",
     "output_type": "stream",
     "text": [
      "Probability of getting aces: 0.08\n"
     ]
    }
   ],
   "source": [
    "# Sample Space\n",
    "cards = 52\n",
    "\n",
    "# Outcomes\n",
    "aces = 4\n",
    "\n",
    "\n",
    "# Divide possible outcomes by the sample set\n",
    "ace_probability = aces / cards\n",
    "\n",
    "# Print probability rounded to two decimal places\n",
    "print(\"Probability of getting aces:\", round(ace_probability, 2))"
   ]
  },
  {
   "cell_type": "markdown",
   "metadata": {
    "colab_type": "text",
    "id": "2BZQV1rQDqIK"
   },
   "source": [
    "## Example 2:\n",
    "\n",
    "---\n",
    "\n"
   ]
  },
  {
   "cell_type": "code",
   "execution_count": 3,
   "metadata": {
    "colab": {
     "base_uri": "https://localhost:8080/",
     "height": 34
    },
    "colab_type": "code",
    "id": "V2Z-QhdeDvu2",
    "outputId": "33a30ded-8c60-4f30-ef41-08e8c3392078"
   },
   "outputs": [
    {
     "name": "stdout",
     "output_type": "stream",
     "text": [
      "Probability of getting hearts: 0.25\n"
     ]
    }
   ],
   "source": [
    "# Sample Space\n",
    "cards = 52\n",
    "\n",
    "# Determine the probability of drawing a heart\n",
    "hearts = 13\n",
    "hearts_probability = hearts/cards\n",
    "\n",
    "print(\"Probability of getting hearts:\", round(hearts_probability,2))"
   ]
  },
  {
   "cell_type": "markdown",
   "metadata": {
    "colab_type": "text",
    "id": "Qjcd3tP4D50s"
   },
   "source": [
    "## Example3:\n",
    "\n",
    "---\n",
    "\n"
   ]
  },
  {
   "cell_type": "code",
   "execution_count": 4,
   "metadata": {
    "colab": {
     "base_uri": "https://localhost:8080/",
     "height": 68
    },
    "colab_type": "code",
    "id": "T28jnb3VEMC_",
    "outputId": "5dd53c8c-7a08-4ee3-a999-4f57e66cc650"
   },
   "outputs": [
    {
     "name": "stdout",
     "output_type": "stream",
     "text": [
      "25.0%\n",
      "23.1%\n",
      "1.9%\n"
     ]
    }
   ],
   "source": [
    "# Create function that returns probability percent rounded to one decimal place\n",
    "def event_probability(event_outcomes, sample_space):\n",
    "    probability = (event_outcomes / sample_space) * 100\n",
    "    return round(probability, 1)\n",
    "\n",
    "# Sample Space\n",
    "cards = 52\n",
    "\n",
    "# Determine the probability of drawing a heart\n",
    "hearts = 13\n",
    "heart_probability = event_probability(hearts, cards)\n",
    "\n",
    "# Determine the probability of drawing a face card\n",
    "face_cards = 12\n",
    "face_card_probability = event_probability(face_cards, cards)\n",
    "\n",
    "# Determine the probability of drawing the queen of hearts\n",
    "ace_of_hearts = 1\n",
    "ace_of_hearts_probability = event_probability(ace_of_hearts, cards)\n",
    "\n",
    "# Print each probability\n",
    "print(str(heart_probability) + '%')\n",
    "print(str(face_card_probability) + '%')\n",
    "print(str(ace_of_hearts_probability) + '%')"
   ]
  },
  {
   "cell_type": "markdown",
   "metadata": {
    "colab_type": "text",
    "id": "G6Yh-scfEXBn"
   },
   "source": [
    "## Example4: \n",
    "\n",
    "---\n",
    "\n"
   ]
  },
  {
   "cell_type": "code",
   "execution_count": 5,
   "metadata": {
    "colab": {
     "base_uri": "https://localhost:8080/",
     "height": 34
    },
    "colab_type": "code",
    "id": "alpEsvVlEfdI",
    "outputId": "66f66c7c-e237-47fe-ac4f-dd5c503a2f12"
   },
   "outputs": [
    {
     "name": "stdout",
     "output_type": "stream",
     "text": [
      "19.6\n"
     ]
    }
   ],
   "source": [
    "# Sample Space\n",
    "cards = 52\n",
    "hole_cards = 2\n",
    "turn_community_cards = 4\n",
    "cards = cards - (hole_cards + turn_community_cards)\n",
    "\n",
    "# Outcomes\n",
    "diamonds = 13\n",
    "diamonds_drawn = 4\n",
    "# In poker, cards that complete a draw are known as \"outs\"\n",
    "outs = diamonds - diamonds_drawn\n",
    "\n",
    "#Determine river flush probability\n",
    "river_flush_probability = event_probability(outs, cards)\n",
    "print(river_flush_probability)"
   ]
  },
  {
   "cell_type": "code",
   "execution_count": 6,
   "metadata": {
    "colab": {},
    "colab_type": "code",
    "id": "9ieQ1lRWE_Qe"
   },
   "outputs": [],
   "source": [
    "import pandas as pd"
   ]
  },
  {
   "cell_type": "code",
   "execution_count": 7,
   "metadata": {
    "colab": {
     "base_uri": "https://localhost:8080/",
     "height": 136
    },
    "colab_type": "code",
    "id": "q4s2h12j3nVo",
    "outputId": "1440c065-aeb8-4fbe-d1a0-1cfb49c0d875"
   },
   "outputs": [
    {
     "name": "stdout",
     "output_type": "stream",
     "text": [
      "  company    model rating   type\n",
      "0    ford  mustang      A  coupe\n",
      "1   chevy   camaro      B  coupe\n",
      "2    ford   fiesta      C  sedan\n",
      "3    ford    focus      A  sedan\n",
      "4    ford   taurus      B  sedan\n",
      "5  toyota    camry      B  sedan\n"
     ]
    }
   ],
   "source": [
    "#Conditional Probability\n",
    "df = pd.DataFrame({'company': ['ford', 'chevy', 'ford', 'ford', 'ford', 'toyota'],\n",
    "                     'model': ['mustang', 'camaro', 'fiesta', 'focus', 'taurus', 'camry'],\n",
    "                     'rating': ['A', 'B', 'C', 'A', 'B', 'B'],\n",
    "                     'type': ['coupe', 'coupe', 'sedan', 'sedan', 'sedan', 'sedan']})\n",
    "print(df)"
   ]
  },
  {
   "cell_type": "code",
   "execution_count": 8,
   "metadata": {
    "colab": {
     "base_uri": "https://localhost:8080/",
     "height": 102
    },
    "colab_type": "code",
    "id": "JWjOZ4S73nVy",
    "outputId": "1af1ee6b-18e4-4bd5-dd00-07bb5e7c7878"
   },
   "outputs": [
    {
     "data": {
      "text/plain": [
       "rating\n",
       "A    0.333333\n",
       "B    0.500000\n",
       "C    0.166667\n",
       "Name: model, dtype: float64"
      ]
     },
     "execution_count": 8,
     "metadata": {},
     "output_type": "execute_result"
    }
   ],
   "source": [
    "df.groupby('rating').count()['model'] / len(df)"
   ]
  },
  {
   "cell_type": "code",
   "execution_count": 9,
   "metadata": {
    "colab": {
     "base_uri": "https://localhost:8080/",
     "height": 136
    },
    "colab_type": "code",
    "id": "TVDhrdi23nV8",
    "outputId": "51c7da88-ce8f-4234-816c-10a266f791f5"
   },
   "outputs": [
    {
     "data": {
      "text/plain": [
       "rating  type \n",
       "A       coupe    0.500000\n",
       "        sedan    0.500000\n",
       "B       coupe    0.333333\n",
       "        sedan    0.666667\n",
       "C       sedan    1.000000\n",
       "Name: model, dtype: float64"
      ]
     },
     "execution_count": 9,
     "metadata": {},
     "output_type": "execute_result"
    }
   ],
   "source": [
    "(df.groupby(['rating', 'type']).count() / df.groupby('rating').count())['model']"
   ]
  },
  {
   "cell_type": "code",
   "execution_count": 10,
   "metadata": {
    "colab": {
     "base_uri": "https://localhost:8080/",
     "height": 1000
    },
    "colab_type": "code",
    "id": "963JjEk93nWF",
    "outputId": "251d7268-4488-4e25-92f3-d84f584929fb"
   },
   "outputs": [
    {
     "name": "stdout",
     "output_type": "stream",
     "text": [
      "[[[0.000e+00 0.000e+00 0.000e+00 0.000e+00 0.000e+00 0.000e+00 0.000e+00\n",
      "   0.000e+00 0.000e+00 0.000e+00]\n",
      "  [0.000e+00 0.000e+00 0.000e+00 0.000e+00 0.000e+00 0.000e+00 0.000e+00\n",
      "   0.000e+00 0.000e+00 0.000e+00]\n",
      "  [0.000e+00 0.000e+00 0.000e+00 0.000e+00 0.000e+00 0.000e+00 0.000e+00\n",
      "   0.000e+00 0.000e+00 0.000e+00]\n",
      "  [0.000e+00 0.000e+00 0.000e+00 1.000e-05 1.000e-05 0.000e+00 0.000e+00\n",
      "   0.000e+00 0.000e+00 0.000e+00]\n",
      "  [0.000e+00 0.000e+00 0.000e+00 0.000e+00 1.000e-05 0.000e+00 1.000e-05\n",
      "   0.000e+00 0.000e+00 0.000e+00]\n",
      "  [0.000e+00 0.000e+00 0.000e+00 1.000e-05 1.000e-05 4.000e-05 0.000e+00\n",
      "   0.000e+00 0.000e+00 0.000e+00]\n",
      "  [0.000e+00 0.000e+00 0.000e+00 0.000e+00 1.000e-05 0.000e+00 0.000e+00\n",
      "   0.000e+00 0.000e+00 0.000e+00]\n",
      "  [0.000e+00 0.000e+00 0.000e+00 0.000e+00 0.000e+00 0.000e+00 0.000e+00\n",
      "   0.000e+00 0.000e+00 0.000e+00]\n",
      "  [0.000e+00 0.000e+00 0.000e+00 0.000e+00 0.000e+00 0.000e+00 0.000e+00\n",
      "   0.000e+00 0.000e+00 0.000e+00]\n",
      "  [0.000e+00 0.000e+00 0.000e+00 0.000e+00 0.000e+00 0.000e+00 0.000e+00\n",
      "   0.000e+00 0.000e+00 0.000e+00]]\n",
      "\n",
      " [[0.000e+00 0.000e+00 0.000e+00 0.000e+00 0.000e+00 0.000e+00 0.000e+00\n",
      "   0.000e+00 0.000e+00 0.000e+00]\n",
      "  [0.000e+00 0.000e+00 0.000e+00 0.000e+00 2.000e-05 0.000e+00 0.000e+00\n",
      "   0.000e+00 0.000e+00 0.000e+00]\n",
      "  [0.000e+00 1.000e-05 1.000e-05 2.000e-05 1.000e-05 5.000e-05 1.000e-05\n",
      "   0.000e+00 0.000e+00 0.000e+00]\n",
      "  [0.000e+00 0.000e+00 4.000e-05 1.200e-04 1.000e-04 9.000e-05 1.000e-05\n",
      "   1.000e-05 0.000e+00 0.000e+00]\n",
      "  [0.000e+00 0.000e+00 5.000e-05 1.200e-04 2.900e-04 1.600e-04 6.000e-05\n",
      "   2.000e-05 0.000e+00 0.000e+00]\n",
      "  [0.000e+00 0.000e+00 3.000e-05 1.800e-04 1.500e-04 1.600e-04 1.000e-04\n",
      "   1.000e-05 0.000e+00 0.000e+00]\n",
      "  [0.000e+00 0.000e+00 3.000e-05 1.200e-04 1.300e-04 1.100e-04 0.000e+00\n",
      "   3.000e-05 0.000e+00 0.000e+00]\n",
      "  [0.000e+00 0.000e+00 0.000e+00 4.000e-05 1.000e-05 0.000e+00 0.000e+00\n",
      "   0.000e+00 0.000e+00 0.000e+00]\n",
      "  [0.000e+00 0.000e+00 0.000e+00 0.000e+00 0.000e+00 0.000e+00 0.000e+00\n",
      "   0.000e+00 0.000e+00 0.000e+00]\n",
      "  [0.000e+00 0.000e+00 0.000e+00 0.000e+00 0.000e+00 0.000e+00 0.000e+00\n",
      "   0.000e+00 0.000e+00 0.000e+00]]\n",
      "\n",
      " [[0.000e+00 0.000e+00 0.000e+00 0.000e+00 0.000e+00 0.000e+00 0.000e+00\n",
      "   0.000e+00 0.000e+00 0.000e+00]\n",
      "  [0.000e+00 0.000e+00 1.000e-05 2.000e-05 2.000e-05 3.000e-05 0.000e+00\n",
      "   0.000e+00 0.000e+00 0.000e+00]\n",
      "  [0.000e+00 2.000e-05 5.000e-05 2.100e-04 2.800e-04 1.600e-04 2.000e-05\n",
      "   2.000e-05 0.000e+00 0.000e+00]\n",
      "  [0.000e+00 6.000e-05 2.500e-04 7.900e-04 1.430e-03 1.160e-03 4.500e-04\n",
      "   1.100e-04 0.000e+00 0.000e+00]\n",
      "  [0.000e+00 1.000e-04 6.500e-04 1.780e-03 2.670e-03 2.110e-03 8.800e-04\n",
      "   1.700e-04 1.000e-05 0.000e+00]\n",
      "  [1.000e-05 1.000e-05 4.500e-04 1.570e-03 2.080e-03 1.950e-03 7.100e-04\n",
      "   1.600e-04 1.000e-05 0.000e+00]\n",
      "  [0.000e+00 3.000e-05 2.300e-04 6.900e-04 1.200e-03 9.000e-04 3.600e-04\n",
      "   3.000e-05 2.000e-05 0.000e+00]\n",
      "  [0.000e+00 2.000e-05 4.000e-05 1.900e-04 2.200e-04 2.200e-04 8.000e-05\n",
      "   2.000e-05 1.000e-05 0.000e+00]\n",
      "  [0.000e+00 0.000e+00 0.000e+00 2.000e-05 0.000e+00 2.000e-05 1.000e-05\n",
      "   0.000e+00 0.000e+00 0.000e+00]\n",
      "  [0.000e+00 0.000e+00 0.000e+00 0.000e+00 0.000e+00 1.000e-05 0.000e+00\n",
      "   0.000e+00 0.000e+00 0.000e+00]]\n",
      "\n",
      " [[0.000e+00 0.000e+00 1.000e-05 0.000e+00 2.000e-05 2.000e-05 1.000e-05\n",
      "   0.000e+00 0.000e+00 0.000e+00]\n",
      "  [0.000e+00 0.000e+00 4.000e-05 9.000e-05 1.200e-04 1.200e-04 4.000e-05\n",
      "   1.000e-05 0.000e+00 0.000e+00]\n",
      "  [0.000e+00 4.000e-05 2.800e-04 9.100e-04 1.480e-03 9.900e-04 5.000e-04\n",
      "   9.000e-05 1.000e-05 1.000e-05]\n",
      "  [3.000e-05 2.900e-04 1.490e-03 3.870e-03 6.550e-03 4.960e-03 2.110e-03\n",
      "   3.100e-04 1.000e-05 0.000e+00]\n",
      "  [4.000e-05 5.900e-04 2.850e-03 8.240e-03 1.320e-02 1.071e-02 4.510e-03\n",
      "   9.000e-04 1.100e-04 0.000e+00]\n",
      "  [1.000e-05 4.800e-04 2.840e-03 8.460e-03 1.306e-02 1.059e-02 4.390e-03\n",
      "   8.100e-04 8.000e-05 1.000e-05]\n",
      "  [0.000e+00 1.900e-04 1.400e-03 3.490e-03 5.840e-03 4.590e-03 1.900e-03\n",
      "   4.200e-04 6.000e-05 0.000e+00]\n",
      "  [0.000e+00 3.000e-05 2.700e-04 7.900e-04 1.260e-03 1.100e-03 3.900e-04\n",
      "   1.100e-04 1.000e-05 0.000e+00]\n",
      "  [0.000e+00 0.000e+00 3.000e-05 1.500e-04 1.100e-04 1.100e-04 7.000e-05\n",
      "   0.000e+00 0.000e+00 0.000e+00]\n",
      "  [0.000e+00 0.000e+00 0.000e+00 0.000e+00 0.000e+00 0.000e+00 1.000e-05\n",
      "   0.000e+00 0.000e+00 0.000e+00]]\n",
      "\n",
      " [[0.000e+00 0.000e+00 1.000e-05 1.000e-05 2.000e-05 4.000e-05 1.000e-05\n",
      "   0.000e+00 0.000e+00 0.000e+00]\n",
      "  [0.000e+00 1.000e-05 1.300e-04 2.200e-04 3.700e-04 3.200e-04 1.400e-04\n",
      "   7.000e-05 0.000e+00 0.000e+00]\n",
      "  [1.000e-05 1.100e-04 6.900e-04 1.870e-03 3.410e-03 2.910e-03 9.900e-04\n",
      "   2.700e-04 4.000e-05 0.000e+00]\n",
      "  [2.000e-05 4.800e-04 3.060e-03 9.520e-03 1.541e-02 1.146e-02 4.490e-03\n",
      "   1.230e-03 1.200e-04 0.000e+00]\n",
      "  [5.000e-05 1.190e-03 6.410e-03 2.024e-02 3.161e-02 2.461e-02 1.079e-02\n",
      "   2.000e-03 2.400e-04 3.000e-05]\n",
      "  [1.000e-04 1.190e-03 6.380e-03 2.048e-02 3.119e-02 2.421e-02 9.840e-03\n",
      "   1.780e-03 2.700e-04 0.000e+00]\n",
      "  [1.000e-05 3.500e-04 2.970e-03 9.020e-03 1.406e-02 1.122e-02 4.610e-03\n",
      "   9.300e-04 8.000e-05 1.000e-05]\n",
      "  [0.000e+00 1.400e-04 6.300e-04 1.870e-03 2.610e-03 2.340e-03 8.900e-04\n",
      "   2.400e-04 4.000e-05 0.000e+00]\n",
      "  [0.000e+00 0.000e+00 6.000e-05 1.900e-04 2.000e-04 2.600e-04 1.000e-04\n",
      "   2.000e-05 0.000e+00 0.000e+00]\n",
      "  [0.000e+00 0.000e+00 0.000e+00 3.000e-05 3.000e-05 3.000e-05 0.000e+00\n",
      "   0.000e+00 0.000e+00 0.000e+00]]\n",
      "\n",
      " [[0.000e+00 0.000e+00 0.000e+00 0.000e+00 0.000e+00 0.000e+00 0.000e+00\n",
      "   0.000e+00 0.000e+00 0.000e+00]\n",
      "  [0.000e+00 0.000e+00 7.000e-05 2.900e-04 3.400e-04 3.100e-04 1.400e-04\n",
      "   1.000e-05 1.000e-05 0.000e+00]\n",
      "  [0.000e+00 1.900e-04 6.900e-04 2.240e-03 4.070e-03 3.030e-03 1.330e-03\n",
      "   2.000e-04 5.000e-05 0.000e+00]\n",
      "  [7.000e-05 6.200e-04 3.140e-03 9.930e-03 1.615e-02 1.279e-02 5.400e-03\n",
      "   1.090e-03 7.000e-05 0.000e+00]\n",
      "  [1.000e-04 1.260e-03 7.140e-03 2.200e-02 3.512e-02 2.737e-02 1.115e-02\n",
      "   2.430e-03 2.300e-04 1.000e-05]\n",
      "  [1.100e-04 1.230e-03 6.720e-03 2.114e-02 3.377e-02 2.703e-02 1.059e-02\n",
      "   2.390e-03 2.000e-04 2.000e-05]\n",
      "  [3.000e-05 4.300e-04 3.180e-03 9.940e-03 1.531e-02 1.253e-02 4.980e-03\n",
      "   9.200e-04 8.000e-05 0.000e+00]\n",
      "  [1.000e-05 1.100e-04 6.200e-04 1.930e-03 3.310e-03 2.750e-03 1.000e-03\n",
      "   2.300e-04 4.000e-05 0.000e+00]\n",
      "  [0.000e+00 2.000e-05 1.100e-04 2.500e-04 3.400e-04 2.400e-04 1.000e-04\n",
      "   2.000e-05 1.000e-05 0.000e+00]\n",
      "  [0.000e+00 0.000e+00 0.000e+00 4.000e-05 1.000e-05 1.000e-05 1.000e-05\n",
      "   0.000e+00 0.000e+00 0.000e+00]]\n",
      "\n",
      " [[0.000e+00 0.000e+00 0.000e+00 0.000e+00 0.000e+00 0.000e+00 0.000e+00\n",
      "   1.000e-05 0.000e+00 0.000e+00]\n",
      "  [0.000e+00 2.000e-05 3.000e-05 7.000e-05 2.100e-04 2.500e-04 6.000e-05\n",
      "   2.000e-05 0.000e+00 0.000e+00]\n",
      "  [2.000e-05 1.200e-04 4.500e-04 1.170e-03 2.060e-03 1.690e-03 6.800e-04\n",
      "   1.200e-04 2.000e-05 0.000e+00]\n",
      "  [5.000e-05 2.600e-04 1.670e-03 5.160e-03 8.380e-03 6.470e-03 2.890e-03\n",
      "   4.900e-04 3.000e-05 0.000e+00]\n",
      "  [2.000e-05 6.300e-04 3.640e-03 1.075e-02 1.743e-02 1.382e-02 5.650e-03\n",
      "   1.260e-03 9.000e-05 0.000e+00]\n",
      "  [1.100e-04 5.800e-04 3.470e-03 1.042e-02 1.719e-02 1.407e-02 5.290e-03\n",
      "   1.040e-03 1.400e-04 0.000e+00]\n",
      "  [1.000e-05 2.900e-04 1.630e-03 5.180e-03 7.420e-03 6.420e-03 2.260e-03\n",
      "   5.900e-04 6.000e-05 1.000e-05]\n",
      "  [0.000e+00 8.000e-05 3.300e-04 1.080e-03 1.730e-03 1.400e-03 5.000e-04\n",
      "   1.000e-04 0.000e+00 0.000e+00]\n",
      "  [0.000e+00 0.000e+00 2.000e-05 1.100e-04 2.100e-04 1.200e-04 5.000e-05\n",
      "   1.000e-05 0.000e+00 0.000e+00]\n",
      "  [0.000e+00 0.000e+00 0.000e+00 0.000e+00 0.000e+00 2.000e-05 0.000e+00\n",
      "   0.000e+00 0.000e+00 0.000e+00]]\n",
      "\n",
      " [[0.000e+00 0.000e+00 0.000e+00 0.000e+00 0.000e+00 0.000e+00 0.000e+00\n",
      "   0.000e+00 0.000e+00 0.000e+00]\n",
      "  [0.000e+00 0.000e+00 1.000e-05 6.000e-05 5.000e-05 2.000e-05 0.000e+00\n",
      "   0.000e+00 0.000e+00 0.000e+00]\n",
      "  [0.000e+00 0.000e+00 1.300e-04 3.700e-04 5.300e-04 3.500e-04 1.400e-04\n",
      "   1.000e-05 1.000e-05 0.000e+00]\n",
      "  [2.000e-05 9.000e-05 4.500e-04 1.310e-03 1.990e-03 1.480e-03 6.400e-04\n",
      "   1.200e-04 2.000e-05 0.000e+00]\n",
      "  [0.000e+00 1.000e-04 7.300e-04 2.650e-03 4.000e-03 3.190e-03 1.170e-03\n",
      "   3.000e-04 2.000e-05 0.000e+00]\n",
      "  [3.000e-05 1.300e-04 7.700e-04 2.430e-03 3.770e-03 3.000e-03 1.260e-03\n",
      "   2.600e-04 2.000e-05 0.000e+00]\n",
      "  [2.000e-05 6.000e-05 3.800e-04 1.190e-03 1.680e-03 1.400e-03 5.800e-04\n",
      "   9.000e-05 0.000e+00 0.000e+00]\n",
      "  [0.000e+00 2.000e-05 8.000e-05 2.400e-04 3.300e-04 2.800e-04 1.300e-04\n",
      "   5.000e-05 0.000e+00 0.000e+00]\n",
      "  [0.000e+00 0.000e+00 1.000e-05 1.000e-05 1.000e-05 9.000e-05 1.000e-05\n",
      "   0.000e+00 0.000e+00 0.000e+00]\n",
      "  [0.000e+00 0.000e+00 0.000e+00 0.000e+00 0.000e+00 0.000e+00 0.000e+00\n",
      "   0.000e+00 0.000e+00 0.000e+00]]\n",
      "\n",
      " [[0.000e+00 0.000e+00 0.000e+00 0.000e+00 0.000e+00 0.000e+00 0.000e+00\n",
      "   0.000e+00 0.000e+00 0.000e+00]\n",
      "  [0.000e+00 0.000e+00 0.000e+00 1.000e-05 1.000e-05 0.000e+00 0.000e+00\n",
      "   0.000e+00 0.000e+00 0.000e+00]\n",
      "  [0.000e+00 0.000e+00 0.000e+00 8.000e-05 8.000e-05 3.000e-05 2.000e-05\n",
      "   0.000e+00 0.000e+00 0.000e+00]\n",
      "  [0.000e+00 3.000e-05 4.000e-05 1.300e-04 2.800e-04 2.000e-04 9.000e-05\n",
      "   0.000e+00 0.000e+00 0.000e+00]\n",
      "  [0.000e+00 0.000e+00 9.000e-05 2.100e-04 4.200e-04 4.000e-04 1.100e-04\n",
      "   4.000e-05 0.000e+00 0.000e+00]\n",
      "  [0.000e+00 1.000e-05 6.000e-05 2.400e-04 4.900e-04 3.500e-04 1.200e-04\n",
      "   3.000e-05 0.000e+00 0.000e+00]\n",
      "  [0.000e+00 1.000e-05 3.000e-05 1.700e-04 2.100e-04 1.400e-04 8.000e-05\n",
      "   1.000e-05 0.000e+00 0.000e+00]\n",
      "  [0.000e+00 0.000e+00 1.000e-05 2.000e-05 2.000e-05 3.000e-05 0.000e+00\n",
      "   0.000e+00 0.000e+00 0.000e+00]\n",
      "  [0.000e+00 0.000e+00 1.000e-05 0.000e+00 1.000e-05 0.000e+00 0.000e+00\n",
      "   0.000e+00 0.000e+00 0.000e+00]\n",
      "  [0.000e+00 0.000e+00 1.000e-05 0.000e+00 0.000e+00 0.000e+00 0.000e+00\n",
      "   0.000e+00 0.000e+00 0.000e+00]]\n",
      "\n",
      " [[0.000e+00 0.000e+00 0.000e+00 0.000e+00 0.000e+00 0.000e+00 0.000e+00\n",
      "   0.000e+00 0.000e+00 0.000e+00]\n",
      "  [0.000e+00 0.000e+00 0.000e+00 0.000e+00 0.000e+00 0.000e+00 0.000e+00\n",
      "   0.000e+00 0.000e+00 0.000e+00]\n",
      "  [0.000e+00 0.000e+00 0.000e+00 1.000e-05 0.000e+00 0.000e+00 0.000e+00\n",
      "   0.000e+00 0.000e+00 0.000e+00]\n",
      "  [0.000e+00 0.000e+00 1.000e-05 0.000e+00 2.000e-05 1.000e-05 0.000e+00\n",
      "   0.000e+00 0.000e+00 0.000e+00]\n",
      "  [1.000e-05 0.000e+00 0.000e+00 3.000e-05 4.000e-05 3.000e-05 1.000e-05\n",
      "   0.000e+00 0.000e+00 0.000e+00]\n",
      "  [0.000e+00 0.000e+00 0.000e+00 1.000e-05 0.000e+00 0.000e+00 0.000e+00\n",
      "   0.000e+00 0.000e+00 0.000e+00]\n",
      "  [0.000e+00 0.000e+00 1.000e-05 0.000e+00 1.000e-05 0.000e+00 0.000e+00\n",
      "   0.000e+00 0.000e+00 0.000e+00]\n",
      "  [0.000e+00 0.000e+00 0.000e+00 0.000e+00 0.000e+00 0.000e+00 0.000e+00\n",
      "   0.000e+00 0.000e+00 0.000e+00]\n",
      "  [0.000e+00 0.000e+00 0.000e+00 0.000e+00 0.000e+00 0.000e+00 0.000e+00\n",
      "   0.000e+00 0.000e+00 0.000e+00]\n",
      "  [0.000e+00 0.000e+00 0.000e+00 0.000e+00 0.000e+00 0.000e+00 0.000e+00\n",
      "   0.000e+00 0.000e+00 0.000e+00]]]\n"
     ]
    }
   ],
   "source": [
    "#Joint Probability\n",
    "import numpy as np\n",
    "numBins = 10  # number of bins in each dimension\n",
    "data = np.random.randn(100000, 3)  # generate 100000 3-d random data points\n",
    "jointProbs, edges = np.histogramdd(data, bins=numBins)\n",
    "jointProbs /= jointProbs.sum()\n",
    "print(jointProbs)"
   ]
  },
  {
   "cell_type": "code",
   "execution_count": 11,
   "metadata": {
    "colab": {
     "base_uri": "https://localhost:8080/",
     "height": 136
    },
    "colab_type": "code",
    "id": "a3i62jBMIKr0",
    "outputId": "bc9aaa9e-1345-4f7c-bd5b-9a0ab2b21de9"
   },
   "outputs": [
    {
     "name": "stdout",
     "output_type": "stream",
     "text": [
      "<scipy.stats._distn_infrastructure.rv_frozen object at 0x000001F3412D8AC0>\n",
      "0.3989422804014327\n",
      "0.5\n",
      "<scipy.stats._distn_infrastructure.rv_frozen object at 0x000001F3412D8B80>\n",
      "0.032786643008494994\n",
      "0.43381616738909634\n",
      "0.5\n"
     ]
    }
   ],
   "source": [
    "import scipy.stats\n",
    "print(scipy.stats.norm(0, 1))\n",
    "\n",
    "print(scipy.stats.norm(0, 1).pdf(0))\n",
    "print(scipy.stats.norm(0, 1).cdf(0))\n",
    "print(scipy.stats.norm(100, 12))\n",
    "print(scipy.stats.norm(100, 12).pdf(98))\n",
    "print(scipy.stats.norm(100, 12).cdf(98))\n",
    "print(scipy.stats.norm(100, 12).cdf(100))"
   ]
  },
  {
   "cell_type": "code",
   "execution_count": null,
   "metadata": {},
   "outputs": [],
   "source": []
  }
 ],
 "metadata": {
  "colab": {
   "name": "Probability.ipynb",
   "provenance": [],
   "version": "0.3.2"
  },
  "kernelspec": {
   "display_name": "Python 3",
   "language": "python",
   "name": "python3"
  },
  "language_info": {
   "codemirror_mode": {
    "name": "ipython",
    "version": 3
   },
   "file_extension": ".py",
   "mimetype": "text/x-python",
   "name": "python",
   "nbconvert_exporter": "python",
   "pygments_lexer": "ipython3",
   "version": "3.8.3"
  }
 },
 "nbformat": 4,
 "nbformat_minor": 1
}
