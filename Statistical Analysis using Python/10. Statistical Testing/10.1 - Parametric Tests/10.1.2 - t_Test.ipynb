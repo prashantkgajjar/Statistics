{
 "cells": [
  {
   "cell_type": "markdown",
   "metadata": {},
   "source": [
    "# 10.1.2: t-Test (aka Student Test)\n",
    "\n",
    "---"
   ]
  },
  {
   "cell_type": "code",
   "execution_count": 1,
   "metadata": {
    "colab": {},
    "colab_type": "code",
    "id": "Y21N_2yv3Grl"
   },
   "outputs": [],
   "source": [
    "## Import the packages\n",
    "import numpy as np\n",
    "from scipy import stats"
   ]
  },
  {
   "cell_type": "code",
   "execution_count": 2,
   "metadata": {
    "colab": {
     "base_uri": "https://localhost:8080/",
     "height": 85
    },
    "colab_type": "code",
    "id": "Aga_0SM43OdO",
    "outputId": "8d4b8f3d-a6df-4129-b3b6-867144288009"
   },
   "outputs": [
    {
     "name": "stdout",
     "output_type": "stream",
     "text": [
      "[0.36867365 3.92608547 2.68653435 1.23156705 0.11113316 2.78329106\n",
      " 3.4882779  2.94730987 0.30845328 2.76374118]\n",
      "[ 0.3195021   0.06955878 -0.224987   -1.17972007  0.67766299 -2.60069791\n",
      "  0.25107126  1.15473133 -0.55716749 -1.72243924]\n"
     ]
    }
   ],
   "source": [
    "## Define 2 random distributions\n",
    "\n",
    "#Sample Size\n",
    "N = 10\n",
    "\n",
    "#Gaussian distributed data with mean = 2 and var = 1\n",
    "a = np.random.randn(N) + 2\n",
    "print(a)\n",
    "\n",
    "#Gaussian distributed data with with mean = 0 and var = 1\n",
    "b = np.random.randn(N)\n",
    "print(b)"
   ]
  },
  {
   "cell_type": "code",
   "execution_count": 3,
   "metadata": {
    "colab": {
     "base_uri": "https://localhost:8080/",
     "height": 51
    },
    "colab_type": "code",
    "id": "DGw_0SoQ2Uhj",
    "outputId": "b6caa6b7-64df-44e7-b626-13fb8165baeb"
   },
   "outputs": [
    {
     "name": "stdout",
     "output_type": "stream",
     "text": [
      "Std Deviation: 1.2936959190304123\n",
      "T-value: 4.2221411125004105\n"
     ]
    }
   ],
   "source": [
    "## Calculate the Standard Deviation\n",
    "\n",
    "#Calculate the variance to get the standard deviation\n",
    "\n",
    "#For unbiased max likelihood estimate we have to divide the var by N-1, and therefore the parameter ddof = 1\n",
    "var_a = a.var(ddof=1)\n",
    "var_b = b.var(ddof=1)\n",
    "\n",
    "#std deviation\n",
    "s = np.sqrt((var_a + var_b)/2)\n",
    "\n",
    "print(\"Std Deviation:\", s)\n",
    "\n",
    "## Calculate the t-statistics\n",
    "t = (a.mean() - b.mean())/(s*np.sqrt(2/N))\n",
    "\n",
    "print(\"T-value:\", t)"
   ]
  },
  {
   "cell_type": "code",
   "execution_count": 4,
   "metadata": {
    "colab": {
     "base_uri": "https://localhost:8080/",
     "height": 51
    },
    "colab_type": "code",
    "id": "9atPC3HO3Z2U",
    "outputId": "683ac7bd-8bd8-4e55-d3fc-7942748b66d1"
   },
   "outputs": [
    {
     "name": "stdout",
     "output_type": "stream",
     "text": [
      "t-Score = 4.2221411125004105\n",
      "p-Value = 0.000512391858784822\n"
     ]
    }
   ],
   "source": [
    "## Compare with the critical t-value\n",
    "\n",
    "#Degrees of freedom\n",
    "df = 2*N - 2\n",
    "\n",
    "#p-value after comparison with the t\n",
    "p = 1 - stats.t.cdf(t,df=df)\n",
    "\n",
    "print(\"t-Score = \" + str(t))\n",
    "print(\"p-Value = \" + str(2*p))\n",
    "\n",
    "#Note that we multiply the p value by 2 because its a twp tail t-test\n",
    "\n",
    "### You can see that after comparing the t statistic with the critical t value (computed internally)\n",
    "# we get a good p value of 0.0005 and thus we reject the null hypothesis and thus it proves that the mean\n",
    "# of the two distributions are different and statistically significant."
   ]
  },
  {
   "cell_type": "code",
   "execution_count": 5,
   "metadata": {
    "colab": {
     "base_uri": "https://localhost:8080/",
     "height": 51
    },
    "colab_type": "code",
    "id": "I_ve3N6a3Mlo",
    "outputId": "cc8bcc64-e1a2-4c05-98b9-db0cf91a0a01"
   },
   "outputs": [
    {
     "name": "stdout",
     "output_type": "stream",
     "text": [
      "t = 4.22214111250041\n",
      "p = 0.0010247837175699553\n"
     ]
    }
   ],
   "source": [
    "## Cross Checking with the internal scipy function\n",
    "t2, p2 = stats.ttest_ind(a,b)\n",
    "print(\"t = \" + str(t2))\n",
    "print(\"p = \" + str(2*p2))"
   ]
  },
  {
   "cell_type": "code",
   "execution_count": null,
   "metadata": {},
   "outputs": [],
   "source": []
  }
 ],
 "metadata": {
  "colab": {
   "name": "t-Test.ipynb",
   "provenance": [],
   "version": "0.3.2"
  },
  "kernelspec": {
   "display_name": "Python 3",
   "language": "python",
   "name": "python3"
  },
  "language_info": {
   "codemirror_mode": {
    "name": "ipython",
    "version": 3
   },
   "file_extension": ".py",
   "mimetype": "text/x-python",
   "name": "python",
   "nbconvert_exporter": "python",
   "pygments_lexer": "ipython3",
   "version": "3.8.3"
  }
 },
 "nbformat": 4,
 "nbformat_minor": 1
}
