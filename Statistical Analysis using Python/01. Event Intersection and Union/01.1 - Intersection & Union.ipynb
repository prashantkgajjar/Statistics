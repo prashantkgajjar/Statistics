{
 "cells": [
  {
   "cell_type": "markdown",
   "metadata": {
    "colab_type": "text",
    "id": "zZN6q0CIgHh9"
   },
   "source": [
    "# 01.1: Intersection of Event\n",
    "\n",
    "---"
   ]
  },
  {
   "cell_type": "code",
   "execution_count": 1,
   "metadata": {
    "colab": {
     "base_uri": "https://localhost:8080/",
     "height": 34
    },
    "colab_type": "code",
    "id": "ddwYCw7EJOLy",
    "outputId": "628fd4bf-ebe4-4346-f476-c3ad012e5514"
   },
   "outputs": [
    {
     "name": "stdout",
     "output_type": "stream",
     "text": [
      "6\n"
     ]
    }
   ],
   "source": [
    "dice=[1,2,3,4,5,6]\n",
    "\n",
    "n=len(dice)\n",
    "\n",
    "for i in range(0,n):\n",
    "    if((dice[i]%2==0)and(dice[i]%3)==0):\n",
    "        print(dice[i])"
   ]
  },
  {
   "cell_type": "markdown",
   "metadata": {
    "colab_type": "text",
    "id": "Q8gY-vc6gSSf"
   },
   "source": [
    "# Union of events\n",
    "\n",
    "---"
   ]
  },
  {
   "cell_type": "code",
   "execution_count": 2,
   "metadata": {
    "colab": {
     "base_uri": "https://localhost:8080/",
     "height": 51
    },
    "colab_type": "code",
    "id": "JXw0SR7RgMMs",
    "outputId": "f7f367f2-d034-4e32-a5e2-1bbc6bea5a5e"
   },
   "outputs": [
    {
     "name": "stdout",
     "output_type": "stream",
     "text": [
      "4\n",
      "6\n"
     ]
    }
   ],
   "source": [
    "dice=[1,2,3,4,5,6]\n",
    "\n",
    "n=len(dice)\n",
    "\n",
    "for i in range(0,n):\n",
    "    if((dice[i]==4)or(dice[i]==6)):\n",
    "        print(dice[i])"
   ]
  },
  {
   "cell_type": "code",
   "execution_count": null,
   "metadata": {},
   "outputs": [],
   "source": []
  }
 ],
 "metadata": {
  "colab": {
   "name": "Intersaction_and_Union.ipynb",
   "provenance": [],
   "version": "0.3.2"
  },
  "kernelspec": {
   "display_name": "Python 3",
   "language": "python",
   "name": "python3"
  },
  "language_info": {
   "codemirror_mode": {
    "name": "ipython",
    "version": 3
   },
   "file_extension": ".py",
   "mimetype": "text/x-python",
   "name": "python",
   "nbconvert_exporter": "python",
   "pygments_lexer": "ipython3",
   "version": "3.8.3"
  }
 },
 "nbformat": 4,
 "nbformat_minor": 1
}
